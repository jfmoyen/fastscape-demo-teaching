{
 "cells": [
  {
   "cell_type": "markdown",
   "metadata": {},
   "source": [
    "# Explorer l'évolution d'un paysage avec FastScape\n",
    "\n",
    "Fastscape (https://fastscape.org) est une série de programmes permettant de modéliser l'évolution topographique d'une région, en prenant en comptes des paramètres tels que vitesse de surrection, dureté des roches, etc.\n",
    "\n",
    "Il est fourni sous la forme d'un certain nombre de modules en Python. \n",
    "\n",
    "Ce fichier présente un exemple très simple pour explorer quelques paramètres.\n",
    "\n",
    "Il faut exécuter successivement les différentes commandes : placez vous dans chacune des boîtes de code et appuyez sur ctrl+entrée pour exécuter le code (dans l'ordre, de haut en bas). Le résultat apparaît en dessous.\n",
    "\n",
    "Vous pouvez modifier le code pour expérimenter. En particulier un peu plus bas, nous verrons la signification de quelques paramètres clef."
   ]
  },
  {
   "cell_type": "markdown",
   "metadata": {},
   "source": [
    "Le premier morceau de code, ci-dessous, permet de charger les bibliothèques nécessaires. Exécutez le une seule fois en début de session."
   ]
  },
  {
   "cell_type": "code",
   "execution_count": 1,
   "metadata": {},
   "outputs": [],
   "source": [
    "import numpy as np\n",
    "import xsimlab as xs\n",
    "import xarray as xr\n",
    "\n",
    "from fastscape.models import basic_model\n",
    "from fastscape.models import sediment_model\n",
    "\n",
    "from ipyfastscape import TopoViz3d"
   ]
  },
  {
   "cell_type": "markdown",
   "metadata": {},
   "source": [
    "Le code suivant crée un modèle, qui inclue de l'érosion et du transport de sédiments, dans un paysage qui a déjà un escarpement présent et dont une partie est surrélevée (\"uplift\"). Executez-le une seule fois."
   ]
  },
  {
   "cell_type": "code",
   "execution_count": 2,
   "metadata": {},
   "outputs": [],
   "source": [
    "from fastscape.processes import Escarpment, TwoBlocksUplift\n",
    "\n",
    "model = (sediment_model\n",
    "         .update_processes({'init_topography': Escarpment,\n",
    "                                   'uplift': TwoBlocksUplift\n",
    "}))"
   ]
  },
  {
   "cell_type": "markdown",
   "metadata": {},
   "source": [
    "# Paramètres\n",
    "\n",
    "C'est cette partie du code qui devient intéressante ! Elle définit les paramètres de la simulation. Vous pouvez les explorer et les modifier; après chaque modification, executez cette partie du code et les suivantes.\n",
    "\n",
    "Utilisez la notation scientifique pour toutes les valeurs : il faut mettre `1e1` et pas 10.\n",
    "\n",
    "## clocks\n",
    "Modifier ce paramètre pour changer la durée de la simulation, sous la forme (début, fin, longeur de chaque pas). Par exemple `(0, 4e5 + 2e3, 2e3)` signifie de 0 à 402 000 ans, avec des pas de 200 ans. Attention, plus vous rajoutez de pas, plus le calcul sera long...\n",
    "\n",
    "## grid__shape\n",
    "Nombre de cellules dans la grille, en x et en y. Là aussi plus il y a de cellules, plus le calcul sera long...\n",
    "\n",
    "## grid__length\n",
    "Taille de la grille, en mètres (x et y). `[1e4, 2e4]` signifie donc une grille de 10 x 20 km, et si vous avez défini 100 x 200 cellules ça implique que chaque cellule fait 100 x 100 m.\n",
    "\n",
    "## boundary__status\n",
    "A priori ne pas modifier.\n",
    "\n",
    "Conditions aux limites (looped, core, fixed_value). Dans l'ordre gauche, droite, bas, haut. \n",
    "(au moins une borduire doit être fixe, `core` signifie une bordure libre, `looped` s'utilise deux par deux pour avoir des bordures identitiques par paire)\n",
    "\n",
    "## init_topography\n",
    "La topographie initiale contient un escarpement plus ou moins en pente (il commence à `x_left` et finit à `x_right`, si les deux sont égaux il est vertical), séparant un compartiment bas à gauche (`elevation_left`) et un compartiment haut à droite (`elevation_right`). En mètres.\n",
    "\n",
    "## uplift\n",
    "Les vitesses de surrection. Elles sont différentes de part et d'autre d'une limite située à `x_position`. Le taux de surrection (en m/an) est différent à gauche et à droite de cette limite (`rate_left`, `rate_right`).\n",
    "\n",
    "Une vitesse de surrection typique est de 0.1 à 1 mm/an (`1e-4` à `1e-3`)\n",
    "\n",
    "## Lois d'érosion\n",
    "Cette série de paramères contrôle la façon dont les roches sont érodées et transportées. Elle comporte trois composants:\n",
    "\n",
    "### 1) Direction de transport\n",
    "Sans doute peu important.\n",
    "`flow__slope_exp` peut êre réglé à une valeur entre 0 et 1. Avec une valeur de 0 le flux ignore la pente (les sédiments se déplacement vers tous les voisins), avec 1 il est multi-directionel (la matière est transportée vers plusieurs cellules en aval), avec des valeurs plus élevées il est fortement focalisé dans une seule direction (la plus grande pente).\n",
    "\n",
    "### 2) Erosivité\n",
    "La vitesse de creusement par les cours d'eau est modelisée différement pour les roches en place (\"bedrock\") et les sédiments (\"soil\"). Le coefficient k indique la facilité d'érosion (donc des matériaux à k élevé sont plus tendre). L'érosion dépend aussi de la pente et de la surface drainée, chacune affectée d'un exposant (donc 1 = loi linéaire): `area_exp` et `slope_exp`. \n",
    "\n",
    "Les coefficients g est relié à la proportion de matériaux qui se déposent (par opposition à ceux transportés plus loin par la rivière). Avec g=0 tous les matériaux érodés sont évacués, g=1 permet de les redéposer en amont.\n",
    "\n",
    "### 3) Mouvements de pente\n",
    "En dehors des rivières, de la matière peut être transportée sur les pentes, de façon diffuse (modélise les glissements de terrain, les chutes de blocs des falaises, etc.). Les deux coefficients de diffusivité indiquent l'importance de ce processus."
   ]
  },
  {
   "cell_type": "code",
   "execution_count": 46,
   "metadata": {},
   "outputs": [],
   "source": [
    "in_ds = xs.create_setup(\n",
    "    model=model,\n",
    "    clocks={\n",
    "        'time': np.arange(0, 4e5 + 2e3, 2e3),\n",
    "    },\n",
    "    master_clock='time',\n",
    "    input_vars={\n",
    "        'grid__shape': [101, 201],\n",
    "        'grid__length': [1e4, 2e4],\n",
    "        'boundary__status': ['looped', 'looped', 'fixed_value', 'core'],\n",
    "        'init_topography': {\n",
    "            'x_left': 1e4,\n",
    "            'x_right': 1e4,\n",
    "            'elevation_left': 1e2,\n",
    "            'elevation_right': 2e2\n",
    "        },\n",
    "        'uplift': {\n",
    "            'x_position': 1e4,\n",
    "            'rate_left': 5e-4,\n",
    "            'rate_right': 1e-3\n",
    "        },\n",
    "        'flow__slope_exp': 1.,\n",
    "        'spl': {\n",
    "            'k_coef_bedrock': 1e-4,\n",
    "            'k_coef_soil': 1.5e-4,\n",
    "            'g_coef_bedrock': 1.,\n",
    "            'g_coef_soil': 1.,\n",
    "            'area_exp': 0.4,\n",
    "            'slope_exp': 1.\n",
    "        },\n",
    "        'diffusion': {\n",
    "            'diffusivity_bedrock': 1e-2,\n",
    "            'diffusivity_soil': 1.5e-2\n",
    "        }\n",
    "    },\n",
    "    output_vars={\n",
    "        'topography__elevation': 'time',\n",
    "        'erosion__rate': 'time'\n",
    "    }\n",
    ")"
   ]
  },
  {
   "cell_type": "markdown",
   "metadata": {},
   "source": [
    "# Exécution !\n",
    "\n",
    "Executez la cellule suivante pour calculer le modèle. Selon vos paramètres, il peut prendre de quelques secondes à plusieurs minutes."
   ]
  },
  {
   "cell_type": "code",
   "execution_count": 47,
   "metadata": {},
   "outputs": [
    {
     "data": {
      "application/vnd.jupyter.widget-view+json": {
       "model_id": "d2259fe438da4c6cabfe74697ccee80a",
       "version_major": 2,
       "version_minor": 0
      },
      "text/plain": [
       "             0% | initialize "
      ]
     },
     "metadata": {},
     "output_type": "display_data"
    }
   ],
   "source": [
    "with xs.monitoring.ProgressBar():\n",
    "    out_ds = in_ds.xsimlab.run(model=model)"
   ]
  },
  {
   "cell_type": "markdown",
   "metadata": {},
   "source": [
    "# Visualisation\n",
    "Exécutez la cellule ci-dessous pour faire apparaître un gadget interactif qui vous permettra d'explorer votre modèle et son comportement au cours du temps..."
   ]
  },
  {
   "cell_type": "code",
   "execution_count": 48,
   "metadata": {},
   "outputs": [
    {
     "data": {
      "application/vnd.jupyter.widget-view+json": {
       "model_id": "5f0834209a4d4752bfd44b168e7fbc7d",
       "version_major": 2,
       "version_minor": 0
      },
      "text/plain": [
       "Output(layout=Layout(height='640px'))"
      ]
     },
     "metadata": {},
     "output_type": "display_data"
    }
   ],
   "source": [
    "app = TopoViz3d(out_ds, canvas_height=600, time_dim=\"time\")\n",
    "\n",
    "app.show()"
   ]
  }
 ],
 "metadata": {
  "kernelspec": {
   "display_name": "Python 3 (ipykernel)",
   "language": "python",
   "name": "python3"
  },
  "language_info": {
   "codemirror_mode": {
    "name": "ipython",
    "version": 3
   },
   "file_extension": ".py",
   "mimetype": "text/x-python",
   "name": "python",
   "nbconvert_exporter": "python",
   "pygments_lexer": "ipython3",
   "version": "3.10.4"
  }
 },
 "nbformat": 4,
 "nbformat_minor": 4
}
